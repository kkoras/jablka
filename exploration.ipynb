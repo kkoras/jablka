{
 "cells": [
  {
   "cell_type": "code",
   "execution_count": 2,
   "metadata": {
    "collapsed": false
   },
   "outputs": [],
   "source": [
    "import pandas as pd\n",
    "import numpy as np\n",
    "import matplotlib.pyplot as plt\n",
    "import seaborn as sns\n",
    "import random\n",
    "\n",
    "%matplotlib inline\n"
   ]
  },
  {
   "cell_type": "code",
   "execution_count": 5,
   "metadata": {
    "collapsed": false
   },
   "outputs": [
    {
     "name": "stdout",
     "output_type": "stream",
     "text": [
      "Shapes of dataframes...\n",
      "(534532, 3)\n",
      "(534532, 3)\n",
      "(534532, 3)\n",
      "(534532, 3)\n",
      "(534532, 3)\n",
      "(659, 3)\n",
      "(534532, 3)\n",
      "\n",
      "Checking timestamps match between targ6 and the rest...\n",
      "True\n",
      "True\n",
      "True\n",
      "True\n",
      "True\n",
      "True\n",
      "False\n",
      "False\n",
      "False\n",
      "False\n",
      "False\n",
      "False\n",
      "False\n",
      "False\n",
      "False\n",
      "False\n",
      "False\n",
      "False\n",
      "False\n",
      "False\n",
      "False\n",
      "False\n",
      "False\n",
      "False\n",
      "False\n",
      "False\n",
      "False\n",
      "False\n",
      "False\n",
      "False\n",
      "False\n",
      "False\n",
      "False\n",
      "False\n",
      "False\n",
      "False\n",
      "False\n",
      "False\n",
      "False\n",
      "False\n",
      "False\n",
      "False\n",
      "\n",
      "Searching for missing values...\n",
      "Number or rows with missing values in targ1: 0\n",
      "Number or rows with missing values in targ2: 0\n",
      "Number or rows with missing values in targ3: 0\n",
      "Number or rows with missing values in targ4: 0\n",
      "Number or rows with missing values in targ5: 0\n",
      "Number or rows with missing values in targ6: 0\n",
      "Number or rows with missing values in targ7: 0\n"
     ]
    },
    {
     "data": {
      "image/png": "[encoded data removed]",
      "text/plain": [
       "<matplotlib.figure.Figure at 0x7fbded6ecfd0>"
      ]
     },
     "metadata": {},
     "output_type": "display_data"
    },
    {
     "name": "stdout",
     "output_type": "stream",
     "text": [
      "Correlations between ask and bid for every dataframe\n",
      "0.999976220854\n",
      "0.999942312764\n",
      "0.999938950855\n",
      "0.999987297952\n",
      "0.999819462125\n",
      "0.821262202928\n",
      "0.999859373777\n"
     ]
    }
   ],
   "source": [
    "#Loading all seven files\n",
    "targ1=pd.read_csv(\"targowisko-1.csv\", sep=\";\", parse_dates=[\"Datetime\"])\n",
    "targ2=pd.read_csv(\"targowisko-2.csv\", sep=\";\", parse_dates=[\"Datetime\"])\n",
    "targ3=pd.read_csv(\"targowisko-3.csv\", sep=\";\", parse_dates=[\"Datetime\"])\n",
    "targ4=pd.read_csv(\"targowisko-4.csv\", sep=\";\", parse_dates=[\"Datetime\"])\n",
    "targ5=pd.read_csv(\"targowisko-5.csv\", sep=\";\", parse_dates=[\"Datetime\"])\n",
    "targ6=pd.read_csv(\"targowisko-6.csv\", sep=\";\", parse_dates=[\"Datetime\"])\n",
    "targ7=pd.read_csv(\"targowisko-7.csv\", sep=\";\", parse_dates=[\"Datetime\"])\n",
    "\n",
    "dframes=[targ1, targ2, targ3, targ4, targ5, targ6, targ7]\n",
    "\n",
    "#Printing shapes of dataframes\n",
    "print \"Shapes of dataframes...\"\n",
    "for df in dframes:\n",
    "    print df.shape\n",
    "    \n",
    "    \n",
    "dframes=[targ1, targ2, targ3, targ4, targ5, targ7]\n",
    "\n",
    "#Checking if timestamps of targ6 match first 659 timestamps of the rest of dataframes\n",
    "print \"\"\n",
    "print \"Checking timestamps match between targ6 and the rest...\"\n",
    "for df in dframes:\n",
    "    print (targ6.Datetime.values==df.Datetime.values[:targ6.shape[0]]).all()\n",
    "    \n",
    "\n",
    "#Checking if timestamps in every dataframe match each other\n",
    "print \"\"\n",
    "print \"Checking datetime matches...\"\n",
    "for df in dframes:\n",
    "    for df in dframes:\n",
    "        print (df.Datetime == df.Datetime).all()\n",
    "#Checking if there are any rows with missing data in any dataframe\n",
    "print \"\"\n",
    "print \"Searching for missing values...\"\n",
    "dframes=[targ1, targ2, targ3, targ4, targ5, targ6, targ7]\n",
    "i=1\n",
    "for df in dframes:\n",
    "    df_dropped=df.dropna(how=\"any\")\n",
    "    print \"Number or rows with missing values in targ{}: {}\".format(i, df.shape[0]-df_dropped.shape[0])\n",
    "    i+=1\n",
    "    \n",
    "#Sample plot of prices\n",
    "random_idx=random.randint(0,6)\n",
    "dframes[random_idx].plot(x=targ1.Datetime, title=\"Sample plot of prices vs time, market {}\".format(random_idx+1))\n",
    "plt.show()\n",
    "\n",
    "#Correlations between ask/bid for every dataframe\n",
    "print \"Correlations between ask and bid for every dataframe\"\n",
    "for df in dframes:\n",
    "    print (df.corr()).iloc[0,1]\n",
    "    \n",
    "\n",
    "\n"
   ]
  },
  {
   "cell_type": "code",
   "execution_count": 63,
   "metadata": {
    "collapsed": false
   },
   "outputs": [
    {
     "name": "stdout",
     "output_type": "stream",
     "text": [
      "(659, 3)\n"
     ]
    }
   ],
   "source": []
  },
  {
   "cell_type": "code",
   "execution_count": null,
   "metadata": {
    "collapsed": true
   },
   "outputs": [],
   "source": []
  }
 ],
 "metadata": {
  "kernelspec": {
   "display_name": "Python 2",
   "language": "python",
   "name": "python2"
  },
  "language_info": {
   "codemirror_mode": {
    "name": "ipython",
    "version": 2
   },
   "file_extension": ".py",
   "mimetype": "text/x-python",
   "name": "python",
   "nbconvert_exporter": "python",
   "pygments_lexer": "ipython2",
   "version": "2.7.6"
  }
 },
 "nbformat": 4,
 "nbformat_minor": 0
}
